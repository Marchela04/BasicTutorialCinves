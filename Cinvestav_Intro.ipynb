{
 "cells": [
  {
   "cell_type": "markdown",
   "metadata": {},
   "source": [
    "### <font color=\"Green\">Marcela García Hernández Cinvestav-IPN 27-July-2020</font>"
   ]
  },
  {
   "cell_type": "markdown",
   "metadata": {},
   "source": [
    "[Information for New Student by Marcela](https://confluence.desy.de/x/aitZCQ)"
   ]
  },
  {
   "cell_type": "markdown",
   "metadata": {},
   "source": [
    "# Important links Belle II"
   ]
  },
  {
   "cell_type": "markdown",
   "metadata": {},
   "source": [
    "[Question](https://questions.belle2.org/questions/)\n",
    "<br>\n",
    "[Software Belle II](https://software.belle2.org/)\n",
    "<br>\n",
    "[Stash Software](https://stash.desy.de/projects/B2/repos/software/browse)\n",
    "<br>\n",
    "[Jira](https://agira.desy.de/secure/Dashboard.jspa)\n",
    "<br>\n",
    "[SoftwareTechnologiesTutorials](https://confluence.desy.de/display/BI/Basic+Software+Technologies+Tutorials)\n",
    "<br>\n",
    "[gbasf2](https://confluence.desy.de/pages/viewpage.action?pageId=47819144)"
   ]
  },
  {
   "cell_type": "markdown",
   "metadata": {},
   "source": [
    "## Installing Jupyter Notebook Belle II\n",
    "[jupyternotebookBelleII](https://confluence.desy.de/display/BI/How+to+run+jupyter+notebooks+at+KEKCC)"
   ]
  },
  {
   "cell_type": "markdown",
   "metadata": {},
   "source": [
    "# Working localy and installing new packages:"
   ]
  },
  {
   "cell_type": "markdown",
   "metadata": {},
   "source": [
    "### Anaconda:\n",
    "[Install Anaconda](https://docs.anaconda.com/anaconda/install/)\n",
    "<br>"
   ]
  },
  {
   "cell_type": "markdown",
   "metadata": {},
   "source": [
    "### Conda enviroment:\n",
    "[New enviroment](https://docs.conda.io/projects/conda/en/latest/user-guide/tasks/manage-environments.html)\n",
    "<br>"
   ]
  },
  {
   "cell_type": "markdown",
   "metadata": {},
   "source": [
    "### Mini conda (KEKCC, ...)\n",
    "[Install miniconda](https://conda.io/projects/conda/en/latest/user-guide/install/linux.html)"
   ]
  },
  {
   "cell_type": "markdown",
   "metadata": {},
   "source": [
    "<font color=\"red\">Another option is working with python enviroments</font>"
   ]
  },
  {
   "cell_type": "markdown",
   "metadata": {},
   "source": [
    "## Installling Jupyter notebook\n",
    "`conda install -c conda-forge notebook`\n",
    "<br>\n",
    "`pip install notebook`\n",
    "<br>\n",
    "To run jupyter:\n",
    "<br>\n",
    "`jupyter notebook`"
   ]
  },
  {
   "cell_type": "markdown",
   "metadata": {},
   "source": [
    "# Introduction to Jupyter and Python"
   ]
  },
  {
   "cell_type": "markdown",
   "metadata": {},
   "source": [
    "\n",
    "[Python Language Tutorial](http://nbviewer.ipython.org/github/ehmatthes/intro_programming/blob/master/notebooks/hello_world.ipynb)"
   ]
  },
  {
   "cell_type": "markdown",
   "metadata": {},
   "source": [
    "#### Evaluate a cell with  `Shift+Enter` (like in e.g. Mathematica notebooks)"
   ]
  },
  {
   "cell_type": "code",
   "execution_count": 1,
   "metadata": {},
   "outputs": [
    {
     "name": "stdout",
     "output_type": "stream",
     "text": [
      "Hello :) !!!\n"
     ]
    }
   ],
   "source": [
    "print(\"Hello :) !!!\")"
   ]
  },
  {
   "cell_type": "markdown",
   "metadata": {},
   "source": [
    "# Python\n",
    "In Python code blocks are done by indenting the block with spaces. There are no braces for scoping, this is soley done by code indentation.\n",
    "<br>\n",
    "### Basics:"
   ]
  },
  {
   "cell_type": "code",
   "execution_count": 2,
   "metadata": {},
   "outputs": [],
   "source": [
    "w=True\n",
    "x=5\n",
    "y=5.0\n",
    "z=\"hola\""
   ]
  },
  {
   "cell_type": "code",
   "execution_count": 3,
   "metadata": {},
   "outputs": [
    {
     "data": {
      "text/plain": [
       "int"
      ]
     },
     "execution_count": 3,
     "metadata": {},
     "output_type": "execute_result"
    }
   ],
   "source": [
    "type(x)"
   ]
  },
  {
   "cell_type": "code",
   "execution_count": 4,
   "metadata": {},
   "outputs": [],
   "source": [
    "lista=[w,x,y,z]"
   ]
  },
  {
   "cell_type": "code",
   "execution_count": 5,
   "metadata": {},
   "outputs": [],
   "source": [
    "tupla=(x,y,z,w)"
   ]
  },
  {
   "cell_type": "code",
   "execution_count": 6,
   "metadata": {},
   "outputs": [],
   "source": [
    "dic={\"var1\":x,\"var2\":y, \"var3\":z, 4.0:x+y,(1,2):w}"
   ]
  },
  {
   "cell_type": "code",
   "execution_count": 7,
   "metadata": {},
   "outputs": [
    {
     "name": "stdout",
     "output_type": "stream",
     "text": [
      "var1\n",
      "var2\n",
      "var3\n",
      "4.0\n",
      "(1, 2)\n"
     ]
    }
   ],
   "source": [
    "for element in dic:\n",
    "    print(element)"
   ]
  },
  {
   "cell_type": "code",
   "execution_count": 8,
   "metadata": {},
   "outputs": [],
   "source": [
    "def funtion_1():\n",
    "    for element in dic:\n",
    "        print(\"--->\", element)"
   ]
  },
  {
   "cell_type": "code",
   "execution_count": 9,
   "metadata": {},
   "outputs": [],
   "source": [
    "class Person:\n",
    "    def __init__(self, name):\n",
    "        \"\"\"This is the 'constructor'\"\"\"\n",
    "        # Member variables are defined in the constructor\n",
    "        \n",
    "        #: The name of the person\n",
    "        self.name = name\n",
    "        \n",
    "    def introduce(self):\n",
    "        \"\"\"Prints a sort introduction statement about the person\"\"\"\n",
    "        print( \"Hello, I am \" + self.name + \".\")\n",
    "        \n",
    "    def __str__(self):\n",
    "        \"\"\"This gets called when the object is passed to a print statement\"\"\"\n",
    "        return self.name\n",
    "    \n",
    "    def print_name(self):\n",
    "        print(self.name)\n",
    "\n",
    "def greet(pers):\n",
    "    print(\"Hello\", pers)"
   ]
  },
  {
   "cell_type": "code",
   "execution_count": 10,
   "metadata": {},
   "outputs": [],
   "source": [
    "myperson = Person(\"Max Mustermann\")"
   ]
  },
  {
   "cell_type": "code",
   "execution_count": 11,
   "metadata": {},
   "outputs": [
    {
     "name": "stdout",
     "output_type": "stream",
     "text": [
      "Hello, I am Max Mustermann.\n",
      "Max Mustermann\n",
      "Hello Max Mustermann\n"
     ]
    }
   ],
   "source": [
    "myperson.introduce()\n",
    "myperson.print_name()\n",
    "greet(myperson)"
   ]
  },
  {
   "cell_type": "code",
   "execution_count": 12,
   "metadata": {},
   "outputs": [],
   "source": [
    "with open(\"archivo.txt\", \"w\") as file:\n",
    "    file.write(\"values\")"
   ]
  },
  {
   "cell_type": "code",
   "execution_count": 13,
   "metadata": {},
   "outputs": [],
   "source": [
    "import numpy as np"
   ]
  },
  {
   "cell_type": "code",
   "execution_count": 14,
   "metadata": {},
   "outputs": [
    {
     "data": {
      "text/plain": [
       "1.0"
      ]
     },
     "execution_count": 14,
     "metadata": {},
     "output_type": "execute_result"
    }
   ],
   "source": [
    "np.cos(2*np.pi)"
   ]
  },
  {
   "cell_type": "code",
   "execution_count": 15,
   "metadata": {},
   "outputs": [],
   "source": [
    "#help(np.cos)"
   ]
  },
  {
   "cell_type": "markdown",
   "metadata": {},
   "source": [
    "> Help in Belle II software !"
   ]
  },
  {
   "cell_type": "code",
   "execution_count": 16,
   "metadata": {},
   "outputs": [],
   "source": [
    "import basf2 as b2"
   ]
  },
  {
   "cell_type": "code",
   "execution_count": 17,
   "metadata": {},
   "outputs": [
    {
     "name": "stdout",
     "output_type": "stream",
     "text": [
      "Welcome to JupyROOT 6.18/00\n"
     ]
    }
   ],
   "source": [
    "import modularAnalysis as ma"
   ]
  },
  {
   "cell_type": "code",
   "execution_count": 18,
   "metadata": {},
   "outputs": [
    {
     "name": "stdout",
     "output_type": "stream",
     "text": [
      "Help on function inputMdst in module modularAnalysis:\n",
      "\n",
      "inputMdst(environmentType, filename, path, skipNEvents=0, entrySequence=None, *, parentLevel=0)\n",
      "    Loads the specified ROOT (DST/mDST/muDST) file with the RootInput module.\n",
      "    \n",
      "    The correct environment (e.g. magnetic field settings) are determined from\n",
      "    the specified environment type. For the possible values please see\n",
      "    `inputMdstList()`\n",
      "    \n",
      "    Parameters:\n",
      "        environmentType (str): type of the environment to be loaded\n",
      "        filename (str): the name of the file to be loaded\n",
      "        path (basf2.Path): modules are added to this path\n",
      "        skipNEvents (int): N events of the input file are skipped\n",
      "        entrySequence (str): The number sequences (e.g. 23:42,101) defining the entries which are processed.\n",
      "        parentLevel (int): Number of generations of parent files (files used as input when creating a file) to be read\n",
      "\n"
     ]
    }
   ],
   "source": [
    "help(ma.inputMdst)"
   ]
  },
  {
   "cell_type": "code",
   "execution_count": 19,
   "metadata": {},
   "outputs": [
    {
     "name": "stdout",
     "output_type": "stream",
     "text": [
      "This is a C++ cell\n"
     ]
    }
   ],
   "source": [
    "%%cpp\n",
    "cout << \"This is a C++ cell\" << endl;"
   ]
  },
  {
   "cell_type": "markdown",
   "metadata": {},
   "source": [
    "# ROOT--> PyROOT\n",
    "## From ROOT `.C` Macros to Python\n",
    "\n",
    "If you are familiar with ROOT in .C macros conversion to Python is rather simple: All ROOT objects are in the ROOT module\n",
    "\n",
    "* **Variable Assignments:** Drop the `new` and variable type, add a `ROOT.` before the constructor. Remove the semi colon. So\n",
    " \n",
    "  ```c++\n",
    "  TH1D* hist = new TH1D(\"name\", \"title\", 100, -5 ,5);\n",
    "  ```\n",
    "  \n",
    "  and also\n",
    "  \n",
    "  ```c++\n",
    "  TH1D hist(\"name\", \"title\", 100, -5, 5);\n",
    "  ```\n",
    "  \n",
    "  becomes\n",
    "  \n",
    "  ```py\n",
    "  hist = ROOT.TH1D(\"name\", \"title\", 100, -5, 5)\n",
    "  ```\n",
    "  \n",
    "* **Member dereference:** Replace all `->` with `.`\n",
    "\n",
    "The most important difference however is that python has a stricter memory management than ROOT expects: **Make sure you keep the objects you want to draw, if they go out of scope python deletes them and ROOT cannot plot them**"
   ]
  },
  {
   "cell_type": "markdown",
   "metadata": {},
   "source": [
    "<img src=\"abstract.png\">"
   ]
  },
  {
   "cell_type": "markdown",
   "metadata": {},
   "source": [
    "# PyROOT tutorials\n",
    "https://root.cern/doc/master/group__tutorial__pyroot.html"
   ]
  },
  {
   "cell_type": "code",
   "execution_count": 20,
   "metadata": {},
   "outputs": [],
   "source": [
    "mu, sigma = 0, 0.1 # mean and standard deviation\n",
    "s = np.random.normal(mu, sigma, 1000)"
   ]
  },
  {
   "cell_type": "code",
   "execution_count": 21,
   "metadata": {},
   "outputs": [],
   "source": [
    "import ROOT"
   ]
  },
  {
   "cell_type": "code",
   "execution_count": 22,
   "metadata": {},
   "outputs": [],
   "source": [
    "h1 = ROOT.TH1D(\"h1\", \"h1\", 100, -1.0, 1.0)"
   ]
  },
  {
   "cell_type": "code",
   "execution_count": 23,
   "metadata": {},
   "outputs": [],
   "source": [
    "for element in s:\n",
    "    h1.Fill(element)"
   ]
  },
  {
   "cell_type": "code",
   "execution_count": 24,
   "metadata": {},
   "outputs": [],
   "source": [
    "def createCanvas(title):\n",
    "    c = ROOT.TCanvas(\"c\", title, 800, 800)\n",
    "    return c"
   ]
  },
  {
   "cell_type": "code",
   "execution_count": 25,
   "metadata": {},
   "outputs": [],
   "source": [
    "c1=createCanvas(\"My first histogram\")\n",
    "c1.cd()\n",
    "h1.Draw()"
   ]
  },
  {
   "cell_type": "code",
   "execution_count": 26,
   "metadata": {},
   "outputs": [
    {
     "data": {
      "image/png": "[encoded data removed]",
      "text/plain": [
       "<IPython.core.display.Image object>"
      ]
     },
     "metadata": {},
     "output_type": "display_data"
    }
   ],
   "source": [
    "c1.Draw()"
   ]
  },
  {
   "cell_type": "markdown",
   "metadata": {},
   "source": [
    "# matplotlib\n",
    "\n",
    "[Plotting with Python matplotlib](http://nbviewer.ipython.org/github/jrjohansson/scientific-python-lectures/blob/master/Lecture-4-Matplotlib.ipynb)"
   ]
  },
  {
   "cell_type": "code",
   "execution_count": 27,
   "metadata": {},
   "outputs": [],
   "source": [
    "import matplotlib.pyplot as plt\n",
    "%matplotlib inline"
   ]
  },
  {
   "cell_type": "code",
   "execution_count": 28,
   "metadata": {},
   "outputs": [
    {
     "data": {
      "text/plain": [
       "<matplotlib.legend.Legend at 0x7fd5bd3cf278>"
      ]
     },
     "execution_count": 28,
     "metadata": {},
     "output_type": "execute_result"
    },
    {
     "data": {
      "image/png": "[encoded data removed]",
      "text/plain": [
       "<Figure size 720x720 with 1 Axes>"
      ]
     },
     "metadata": {
      "needs_background": "light"
     },
     "output_type": "display_data"
    }
   ],
   "source": [
    "plt.figure(figsize=(10,10))\n",
    "plt.hist(s, bins=50,label=\"my_hist\")\n",
    "plt.legend()"
   ]
  },
  {
   "cell_type": "code",
   "execution_count": 29,
   "metadata": {},
   "outputs": [],
   "source": [
    "import root_pandas"
   ]
  },
  {
   "cell_type": "code",
   "execution_count": 30,
   "metadata": {},
   "outputs": [],
   "source": [
    "file=\"./tau_muon_ntuples.root\""
   ]
  },
  {
   "cell_type": "code",
   "execution_count": 31,
   "metadata": {},
   "outputs": [],
   "source": [
    "df_signal = root_pandas.read_root(file,key=\"treevpho\")"
   ]
  },
  {
   "cell_type": "markdown",
   "metadata": {},
   "source": [
    "<font color=\"red\">Another option uproot</font>\n",
    "<br>\n",
    "https://github.com/scikit-hep/uproot\n",
    "<br>"
   ]
  },
  {
   "cell_type": "code",
   "execution_count": 32,
   "metadata": {},
   "outputs": [],
   "source": [
    "import uproot"
   ]
  },
  {
   "cell_type": "code",
   "execution_count": 33,
   "metadata": {},
   "outputs": [],
   "source": [
    "signal2 = uproot.open(file)"
   ]
  },
  {
   "cell_type": "markdown",
   "metadata": {},
   "source": [
    "### Going back to Pandas..."
   ]
  },
  {
   "cell_type": "code",
   "execution_count": 34,
   "metadata": {},
   "outputs": [
    {
     "data": {
      "text/html": [
       "<div>\n",
       "<style scoped>\n",
       "    .dataframe tbody tr th:only-of-type {\n",
       "        vertical-align: middle;\n",
       "    }\n",
       "\n",
       "    .dataframe tbody tr th {\n",
       "        vertical-align: top;\n",
       "    }\n",
       "\n",
       "    .dataframe thead th {\n",
       "        text-align: right;\n",
       "    }\n",
       "</style>\n",
       "<table border=\"1\" class=\"dataframe\">\n",
       "  <thead>\n",
       "    <tr style=\"text-align: right;\">\n",
       "      <th></th>\n",
       "      <th>__experiment__</th>\n",
       "      <th>__run__</th>\n",
       "      <th>__event__</th>\n",
       "      <th>__candidate__</th>\n",
       "      <th>__ncandidates__</th>\n",
       "      <th>__weight__</th>\n",
       "      <th>thrust</th>\n",
       "      <th>missingEnergyOfEventCMS</th>\n",
       "      <th>missingMomentumOfEvent</th>\n",
       "      <th>missingMomentumOfEvent_theta</th>\n",
       "      <th>...</th>\n",
       "      <th>tau_1_pi_y_uncertainty</th>\n",
       "      <th>tau_1_pi_z_uncertainty</th>\n",
       "      <th>tau_1_pi_dphi</th>\n",
       "      <th>tau_1_pi_dcosTheta</th>\n",
       "      <th>tau_1_pi_prodVertexX</th>\n",
       "      <th>tau_1_pi_prodVertexY</th>\n",
       "      <th>tau_1_pi_prodVertexZ</th>\n",
       "      <th>tau_1_pi_prodVertexXErr</th>\n",
       "      <th>tau_1_pi_prodVertexYErr</th>\n",
       "      <th>tau_1_pi_prodVertexZErr</th>\n",
       "    </tr>\n",
       "  </thead>\n",
       "  <tbody>\n",
       "    <tr>\n",
       "      <th>count</th>\n",
       "      <td>105574.0</td>\n",
       "      <td>105574.0</td>\n",
       "      <td>105574.000000</td>\n",
       "      <td>105574.000000</td>\n",
       "      <td>105574.000000</td>\n",
       "      <td>105574.0</td>\n",
       "      <td>105574.000000</td>\n",
       "      <td>105574.000000</td>\n",
       "      <td>105574.000000</td>\n",
       "      <td>105574.000000</td>\n",
       "      <td>...</td>\n",
       "      <td>1.055740e+05</td>\n",
       "      <td>105574.000000</td>\n",
       "      <td>105574.000000</td>\n",
       "      <td>105574.000000</td>\n",
       "      <td>105574.0</td>\n",
       "      <td>105574.0</td>\n",
       "      <td>105574.0</td>\n",
       "      <td>105574.0</td>\n",
       "      <td>105574.0</td>\n",
       "      <td>105574.0</td>\n",
       "    </tr>\n",
       "    <tr>\n",
       "      <th>mean</th>\n",
       "      <td>1003.0</td>\n",
       "      <td>0.0</td>\n",
       "      <td>2505.363830</td>\n",
       "      <td>0.113787</td>\n",
       "      <td>1.227575</td>\n",
       "      <td>1.0</td>\n",
       "      <td>0.939655</td>\n",
       "      <td>2.801830</td>\n",
       "      <td>2.699948</td>\n",
       "      <td>1.331862</td>\n",
       "      <td>...</td>\n",
       "      <td>3.179689e-03</td>\n",
       "      <td>0.008743</td>\n",
       "      <td>-0.088422</td>\n",
       "      <td>0.056525</td>\n",
       "      <td>-999.0</td>\n",
       "      <td>-999.0</td>\n",
       "      <td>-999.0</td>\n",
       "      <td>-999.0</td>\n",
       "      <td>-999.0</td>\n",
       "      <td>-999.0</td>\n",
       "    </tr>\n",
       "    <tr>\n",
       "      <th>std</th>\n",
       "      <td>0.0</td>\n",
       "      <td>0.0</td>\n",
       "      <td>1441.900473</td>\n",
       "      <td>0.412915</td>\n",
       "      <td>0.620290</td>\n",
       "      <td>0.0</td>\n",
       "      <td>0.025131</td>\n",
       "      <td>1.460836</td>\n",
       "      <td>1.506168</td>\n",
       "      <td>0.655581</td>\n",
       "      <td>...</td>\n",
       "      <td>1.980393e-02</td>\n",
       "      <td>0.077668</td>\n",
       "      <td>1.812575</td>\n",
       "      <td>0.858508</td>\n",
       "      <td>0.0</td>\n",
       "      <td>0.0</td>\n",
       "      <td>0.0</td>\n",
       "      <td>0.0</td>\n",
       "      <td>0.0</td>\n",
       "      <td>0.0</td>\n",
       "    </tr>\n",
       "    <tr>\n",
       "      <th>min</th>\n",
       "      <td>1003.0</td>\n",
       "      <td>0.0</td>\n",
       "      <td>1.000000</td>\n",
       "      <td>0.000000</td>\n",
       "      <td>1.000000</td>\n",
       "      <td>1.0</td>\n",
       "      <td>0.687150</td>\n",
       "      <td>-98.972160</td>\n",
       "      <td>0.011352</td>\n",
       "      <td>0.010040</td>\n",
       "      <td>...</td>\n",
       "      <td>2.013501e-07</td>\n",
       "      <td>0.000394</td>\n",
       "      <td>-3.141582</td>\n",
       "      <td>-1.000000</td>\n",
       "      <td>-999.0</td>\n",
       "      <td>-999.0</td>\n",
       "      <td>-999.0</td>\n",
       "      <td>-999.0</td>\n",
       "      <td>-999.0</td>\n",
       "      <td>-999.0</td>\n",
       "    </tr>\n",
       "    <tr>\n",
       "      <th>25%</th>\n",
       "      <td>1003.0</td>\n",
       "      <td>0.0</td>\n",
       "      <td>1256.000000</td>\n",
       "      <td>0.000000</td>\n",
       "      <td>1.000000</td>\n",
       "      <td>1.0</td>\n",
       "      <td>0.928379</td>\n",
       "      <td>1.698873</td>\n",
       "      <td>1.536484</td>\n",
       "      <td>0.814398</td>\n",
       "      <td>...</td>\n",
       "      <td>6.290490e-04</td>\n",
       "      <td>0.001502</td>\n",
       "      <td>-1.666168</td>\n",
       "      <td>-0.936808</td>\n",
       "      <td>-999.0</td>\n",
       "      <td>-999.0</td>\n",
       "      <td>-999.0</td>\n",
       "      <td>-999.0</td>\n",
       "      <td>-999.0</td>\n",
       "      <td>-999.0</td>\n",
       "    </tr>\n",
       "    <tr>\n",
       "      <th>50%</th>\n",
       "      <td>1003.0</td>\n",
       "      <td>0.0</td>\n",
       "      <td>2506.000000</td>\n",
       "      <td>0.000000</td>\n",
       "      <td>1.000000</td>\n",
       "      <td>1.0</td>\n",
       "      <td>0.944568</td>\n",
       "      <td>2.852729</td>\n",
       "      <td>2.641456</td>\n",
       "      <td>1.268063</td>\n",
       "      <td>...</td>\n",
       "      <td>1.128538e-03</td>\n",
       "      <td>0.002172</td>\n",
       "      <td>-0.173528</td>\n",
       "      <td>0.234949</td>\n",
       "      <td>-999.0</td>\n",
       "      <td>-999.0</td>\n",
       "      <td>-999.0</td>\n",
       "      <td>-999.0</td>\n",
       "      <td>-999.0</td>\n",
       "      <td>-999.0</td>\n",
       "    </tr>\n",
       "    <tr>\n",
       "      <th>75%</th>\n",
       "      <td>1003.0</td>\n",
       "      <td>0.0</td>\n",
       "      <td>3751.000000</td>\n",
       "      <td>0.000000</td>\n",
       "      <td>1.000000</td>\n",
       "      <td>1.0</td>\n",
       "      <td>0.956606</td>\n",
       "      <td>3.936871</td>\n",
       "      <td>3.747027</td>\n",
       "      <td>1.805447</td>\n",
       "      <td>...</td>\n",
       "      <td>1.939884e-03</td>\n",
       "      <td>0.004137</td>\n",
       "      <td>1.479602</td>\n",
       "      <td>0.963322</td>\n",
       "      <td>-999.0</td>\n",
       "      <td>-999.0</td>\n",
       "      <td>-999.0</td>\n",
       "      <td>-999.0</td>\n",
       "      <td>-999.0</td>\n",
       "      <td>-999.0</td>\n",
       "    </tr>\n",
       "    <tr>\n",
       "      <th>max</th>\n",
       "      <td>1003.0</td>\n",
       "      <td>0.0</td>\n",
       "      <td>5000.000000</td>\n",
       "      <td>7.000000</td>\n",
       "      <td>8.000000</td>\n",
       "      <td>1.0</td>\n",
       "      <td>0.999627</td>\n",
       "      <td>6.067354</td>\n",
       "      <td>130.075798</td>\n",
       "      <td>3.140176</td>\n",
       "      <td>...</td>\n",
       "      <td>1.606472e+00</td>\n",
       "      <td>12.681633</td>\n",
       "      <td>3.141483</td>\n",
       "      <td>1.000000</td>\n",
       "      <td>-999.0</td>\n",
       "      <td>-999.0</td>\n",
       "      <td>-999.0</td>\n",
       "      <td>-999.0</td>\n",
       "      <td>-999.0</td>\n",
       "      <td>-999.0</td>\n",
       "    </tr>\n",
       "  </tbody>\n",
       "</table>\n",
       "<p>8 rows × 376 columns</p>\n",
       "</div>"
      ],
      "text/plain": [
       "       __experiment__   __run__      __event__  __candidate__  \\\n",
       "count        105574.0  105574.0  105574.000000  105574.000000   \n",
       "mean           1003.0       0.0    2505.363830       0.113787   \n",
       "std               0.0       0.0    1441.900473       0.412915   \n",
       "min            1003.0       0.0       1.000000       0.000000   \n",
       "25%            1003.0       0.0    1256.000000       0.000000   \n",
       "50%            1003.0       0.0    2506.000000       0.000000   \n",
       "75%            1003.0       0.0    3751.000000       0.000000   \n",
       "max            1003.0       0.0    5000.000000       7.000000   \n",
       "\n",
       "       __ncandidates__  __weight__         thrust  missingEnergyOfEventCMS  \\\n",
       "count    105574.000000    105574.0  105574.000000            105574.000000   \n",
       "mean          1.227575         1.0       0.939655                 2.801830   \n",
       "std           0.620290         0.0       0.025131                 1.460836   \n",
       "min           1.000000         1.0       0.687150               -98.972160   \n",
       "25%           1.000000         1.0       0.928379                 1.698873   \n",
       "50%           1.000000         1.0       0.944568                 2.852729   \n",
       "75%           1.000000         1.0       0.956606                 3.936871   \n",
       "max           8.000000         1.0       0.999627                 6.067354   \n",
       "\n",
       "       missingMomentumOfEvent  missingMomentumOfEvent_theta  ...  \\\n",
       "count           105574.000000                 105574.000000  ...   \n",
       "mean                 2.699948                      1.331862  ...   \n",
       "std                  1.506168                      0.655581  ...   \n",
       "min                  0.011352                      0.010040  ...   \n",
       "25%                  1.536484                      0.814398  ...   \n",
       "50%                  2.641456                      1.268063  ...   \n",
       "75%                  3.747027                      1.805447  ...   \n",
       "max                130.075798                      3.140176  ...   \n",
       "\n",
       "       tau_1_pi_y_uncertainty  tau_1_pi_z_uncertainty  tau_1_pi_dphi  \\\n",
       "count            1.055740e+05           105574.000000  105574.000000   \n",
       "mean             3.179689e-03                0.008743      -0.088422   \n",
       "std              1.980393e-02                0.077668       1.812575   \n",
       "min              2.013501e-07                0.000394      -3.141582   \n",
       "25%              6.290490e-04                0.001502      -1.666168   \n",
       "50%              1.128538e-03                0.002172      -0.173528   \n",
       "75%              1.939884e-03                0.004137       1.479602   \n",
       "max              1.606472e+00               12.681633       3.141483   \n",
       "\n",
       "       tau_1_pi_dcosTheta  tau_1_pi_prodVertexX  tau_1_pi_prodVertexY  \\\n",
       "count       105574.000000              105574.0              105574.0   \n",
       "mean             0.056525                -999.0                -999.0   \n",
       "std              0.858508                   0.0                   0.0   \n",
       "min             -1.000000                -999.0                -999.0   \n",
       "25%             -0.936808                -999.0                -999.0   \n",
       "50%              0.234949                -999.0                -999.0   \n",
       "75%              0.963322                -999.0                -999.0   \n",
       "max              1.000000                -999.0                -999.0   \n",
       "\n",
       "       tau_1_pi_prodVertexZ  tau_1_pi_prodVertexXErr  tau_1_pi_prodVertexYErr  \\\n",
       "count              105574.0                 105574.0                 105574.0   \n",
       "mean                 -999.0                   -999.0                   -999.0   \n",
       "std                     0.0                      0.0                      0.0   \n",
       "min                  -999.0                   -999.0                   -999.0   \n",
       "25%                  -999.0                   -999.0                   -999.0   \n",
       "50%                  -999.0                   -999.0                   -999.0   \n",
       "75%                  -999.0                   -999.0                   -999.0   \n",
       "max                  -999.0                   -999.0                   -999.0   \n",
       "\n",
       "       tau_1_pi_prodVertexZErr  \n",
       "count                 105574.0  \n",
       "mean                    -999.0  \n",
       "std                        0.0  \n",
       "min                     -999.0  \n",
       "25%                     -999.0  \n",
       "50%                     -999.0  \n",
       "75%                     -999.0  \n",
       "max                     -999.0  \n",
       "\n",
       "[8 rows x 376 columns]"
      ]
     },
     "execution_count": 34,
     "metadata": {},
     "output_type": "execute_result"
    }
   ],
   "source": [
    "df_signal.describe() #head() values coulums"
   ]
  },
  {
   "cell_type": "code",
   "execution_count": 35,
   "metadata": {},
   "outputs": [
    {
     "data": {
      "text/html": [
       "<div>\n",
       "<style scoped>\n",
       "    .dataframe tbody tr th:only-of-type {\n",
       "        vertical-align: middle;\n",
       "    }\n",
       "\n",
       "    .dataframe tbody tr th {\n",
       "        vertical-align: top;\n",
       "    }\n",
       "\n",
       "    .dataframe thead th {\n",
       "        text-align: right;\n",
       "    }\n",
       "</style>\n",
       "<table border=\"1\" class=\"dataframe\">\n",
       "  <thead>\n",
       "    <tr style=\"text-align: right;\">\n",
       "      <th></th>\n",
       "      <th>__experiment__</th>\n",
       "      <th>__run__</th>\n",
       "      <th>__event__</th>\n",
       "      <th>__candidate__</th>\n",
       "      <th>__ncandidates__</th>\n",
       "      <th>__weight__</th>\n",
       "      <th>thrust</th>\n",
       "      <th>missingEnergyOfEventCMS</th>\n",
       "      <th>missingMomentumOfEvent</th>\n",
       "      <th>missingMomentumOfEvent_theta</th>\n",
       "      <th>...</th>\n",
       "      <th>tau_1_pi_y_uncertainty</th>\n",
       "      <th>tau_1_pi_z_uncertainty</th>\n",
       "      <th>tau_1_pi_dphi</th>\n",
       "      <th>tau_1_pi_dcosTheta</th>\n",
       "      <th>tau_1_pi_prodVertexX</th>\n",
       "      <th>tau_1_pi_prodVertexY</th>\n",
       "      <th>tau_1_pi_prodVertexZ</th>\n",
       "      <th>tau_1_pi_prodVertexXErr</th>\n",
       "      <th>tau_1_pi_prodVertexYErr</th>\n",
       "      <th>tau_1_pi_prodVertexZErr</th>\n",
       "    </tr>\n",
       "  </thead>\n",
       "  <tbody>\n",
       "    <tr>\n",
       "      <th>77807</th>\n",
       "      <td>1003</td>\n",
       "      <td>0</td>\n",
       "      <td>2579</td>\n",
       "      <td>0</td>\n",
       "      <td>1</td>\n",
       "      <td>1.0</td>\n",
       "      <td>0.687150</td>\n",
       "      <td>3.027152</td>\n",
       "      <td>3.575326</td>\n",
       "      <td>0.590108</td>\n",
       "      <td>...</td>\n",
       "      <td>0.000979</td>\n",
       "      <td>0.002316</td>\n",
       "      <td>0.357272</td>\n",
       "      <td>-0.954584</td>\n",
       "      <td>-999.0</td>\n",
       "      <td>-999.0</td>\n",
       "      <td>-999.0</td>\n",
       "      <td>-999.0</td>\n",
       "      <td>-999.0</td>\n",
       "      <td>-999.0</td>\n",
       "    </tr>\n",
       "    <tr>\n",
       "      <th>66801</th>\n",
       "      <td>1003</td>\n",
       "      <td>0</td>\n",
       "      <td>1593</td>\n",
       "      <td>0</td>\n",
       "      <td>1</td>\n",
       "      <td>1.0</td>\n",
       "      <td>0.695020</td>\n",
       "      <td>2.813056</td>\n",
       "      <td>3.034088</td>\n",
       "      <td>1.159578</td>\n",
       "      <td>...</td>\n",
       "      <td>0.012327</td>\n",
       "      <td>0.015210</td>\n",
       "      <td>1.610821</td>\n",
       "      <td>0.942887</td>\n",
       "      <td>-999.0</td>\n",
       "      <td>-999.0</td>\n",
       "      <td>-999.0</td>\n",
       "      <td>-999.0</td>\n",
       "      <td>-999.0</td>\n",
       "      <td>-999.0</td>\n",
       "    </tr>\n",
       "    <tr>\n",
       "      <th>66791</th>\n",
       "      <td>1003</td>\n",
       "      <td>0</td>\n",
       "      <td>1575</td>\n",
       "      <td>0</td>\n",
       "      <td>1</td>\n",
       "      <td>1.0</td>\n",
       "      <td>0.695469</td>\n",
       "      <td>3.848182</td>\n",
       "      <td>3.909879</td>\n",
       "      <td>1.466864</td>\n",
       "      <td>...</td>\n",
       "      <td>0.001228</td>\n",
       "      <td>0.002873</td>\n",
       "      <td>0.469753</td>\n",
       "      <td>0.963112</td>\n",
       "      <td>-999.0</td>\n",
       "      <td>-999.0</td>\n",
       "      <td>-999.0</td>\n",
       "      <td>-999.0</td>\n",
       "      <td>-999.0</td>\n",
       "      <td>-999.0</td>\n",
       "    </tr>\n",
       "    <tr>\n",
       "      <th>21128</th>\n",
       "      <td>1003</td>\n",
       "      <td>0</td>\n",
       "      <td>201</td>\n",
       "      <td>0</td>\n",
       "      <td>1</td>\n",
       "      <td>1.0</td>\n",
       "      <td>0.697973</td>\n",
       "      <td>3.332684</td>\n",
       "      <td>4.210262</td>\n",
       "      <td>0.462916</td>\n",
       "      <td>...</td>\n",
       "      <td>0.001339</td>\n",
       "      <td>0.001897</td>\n",
       "      <td>1.956125</td>\n",
       "      <td>-0.955385</td>\n",
       "      <td>-999.0</td>\n",
       "      <td>-999.0</td>\n",
       "      <td>-999.0</td>\n",
       "      <td>-999.0</td>\n",
       "      <td>-999.0</td>\n",
       "      <td>-999.0</td>\n",
       "    </tr>\n",
       "    <tr>\n",
       "      <th>13328</th>\n",
       "      <td>1003</td>\n",
       "      <td>0</td>\n",
       "      <td>391</td>\n",
       "      <td>0</td>\n",
       "      <td>1</td>\n",
       "      <td>1.0</td>\n",
       "      <td>0.704517</td>\n",
       "      <td>2.414006</td>\n",
       "      <td>2.366453</td>\n",
       "      <td>1.308098</td>\n",
       "      <td>...</td>\n",
       "      <td>0.051149</td>\n",
       "      <td>0.009809</td>\n",
       "      <td>-0.562268</td>\n",
       "      <td>-0.839878</td>\n",
       "      <td>-999.0</td>\n",
       "      <td>-999.0</td>\n",
       "      <td>-999.0</td>\n",
       "      <td>-999.0</td>\n",
       "      <td>-999.0</td>\n",
       "      <td>-999.0</td>\n",
       "    </tr>\n",
       "  </tbody>\n",
       "</table>\n",
       "<p>5 rows × 376 columns</p>\n",
       "</div>"
      ],
      "text/plain": [
       "       __experiment__  __run__  __event__  __candidate__  __ncandidates__  \\\n",
       "77807            1003        0       2579              0                1   \n",
       "66801            1003        0       1593              0                1   \n",
       "66791            1003        0       1575              0                1   \n",
       "21128            1003        0        201              0                1   \n",
       "13328            1003        0        391              0                1   \n",
       "\n",
       "       __weight__    thrust  missingEnergyOfEventCMS  missingMomentumOfEvent  \\\n",
       "77807         1.0  0.687150                 3.027152                3.575326   \n",
       "66801         1.0  0.695020                 2.813056                3.034088   \n",
       "66791         1.0  0.695469                 3.848182                3.909879   \n",
       "21128         1.0  0.697973                 3.332684                4.210262   \n",
       "13328         1.0  0.704517                 2.414006                2.366453   \n",
       "\n",
       "       missingMomentumOfEvent_theta  ...  tau_1_pi_y_uncertainty  \\\n",
       "77807                      0.590108  ...                0.000979   \n",
       "66801                      1.159578  ...                0.012327   \n",
       "66791                      1.466864  ...                0.001228   \n",
       "21128                      0.462916  ...                0.001339   \n",
       "13328                      1.308098  ...                0.051149   \n",
       "\n",
       "       tau_1_pi_z_uncertainty  tau_1_pi_dphi  tau_1_pi_dcosTheta  \\\n",
       "77807                0.002316       0.357272           -0.954584   \n",
       "66801                0.015210       1.610821            0.942887   \n",
       "66791                0.002873       0.469753            0.963112   \n",
       "21128                0.001897       1.956125           -0.955385   \n",
       "13328                0.009809      -0.562268           -0.839878   \n",
       "\n",
       "       tau_1_pi_prodVertexX  tau_1_pi_prodVertexY  tau_1_pi_prodVertexZ  \\\n",
       "77807                -999.0                -999.0                -999.0   \n",
       "66801                -999.0                -999.0                -999.0   \n",
       "66791                -999.0                -999.0                -999.0   \n",
       "21128                -999.0                -999.0                -999.0   \n",
       "13328                -999.0                -999.0                -999.0   \n",
       "\n",
       "       tau_1_pi_prodVertexXErr  tau_1_pi_prodVertexYErr  \\\n",
       "77807                   -999.0                   -999.0   \n",
       "66801                   -999.0                   -999.0   \n",
       "66791                   -999.0                   -999.0   \n",
       "21128                   -999.0                   -999.0   \n",
       "13328                   -999.0                   -999.0   \n",
       "\n",
       "       tau_1_pi_prodVertexZErr  \n",
       "77807                   -999.0  \n",
       "66801                   -999.0  \n",
       "66791                   -999.0  \n",
       "21128                   -999.0  \n",
       "13328                   -999.0  \n",
       "\n",
       "[5 rows x 376 columns]"
      ]
     },
     "execution_count": 35,
     "metadata": {},
     "output_type": "execute_result"
    }
   ],
   "source": [
    "df_signal.sort_values(by=\"thrust\").head()"
   ]
  },
  {
   "cell_type": "code",
   "execution_count": 36,
   "metadata": {},
   "outputs": [
    {
     "data": {
      "text/plain": [
       "array([[<matplotlib.axes._subplots.AxesSubplot object at 0x7fd598885be0>]],\n",
       "      dtype=object)"
      ]
     },
     "execution_count": 36,
     "metadata": {},
     "output_type": "execute_result"
    },
    {
     "data": {
      "image/png": "[encoded data removed]",
      "text/plain": [
       "<Figure size 432x288 with 1 Axes>"
      ]
     },
     "metadata": {
      "needs_background": "light"
     },
     "output_type": "display_data"
    }
   ],
   "source": [
    "df_signal.hist(\"tau_0_InvM\")"
   ]
  },
  {
   "cell_type": "code",
   "execution_count": 37,
   "metadata": {},
   "outputs": [
    {
     "data": {
      "image/png": "[encoded data removed]",
      "text/plain": [
       "<Figure size 432x288 with 1 Axes>"
      ]
     },
     "metadata": {
      "needs_background": "light"
     },
     "output_type": "display_data"
    }
   ],
   "source": [
    "h = plt.hist(df_signal[\"tau_0_InvM\"], bins=100)"
   ]
  },
  {
   "cell_type": "code",
   "execution_count": 38,
   "metadata": {},
   "outputs": [
    {
     "data": {
      "text/plain": [
       "Index(['thrust', 'tau_0_InvM'], dtype='object')"
      ]
     },
     "execution_count": 38,
     "metadata": {},
     "output_type": "execute_result"
    }
   ],
   "source": [
    "subset = df_signal[['thrust', 'tau_0_InvM']]\n",
    "subset.columns"
   ]
  },
  {
   "cell_type": "code",
   "execution_count": 39,
   "metadata": {},
   "outputs": [],
   "source": [
    "#subset"
   ]
  },
  {
   "cell_type": "code",
   "execution_count": 40,
   "metadata": {},
   "outputs": [],
   "source": [
    "dic_cuts={\"thrust\":0.8, \"tau_0_InvM\":1.7}"
   ]
  },
  {
   "cell_type": "code",
   "execution_count": 41,
   "metadata": {},
   "outputs": [
    {
     "name": "stdout",
     "output_type": "stream",
     "text": [
      "105574\n",
      "Cut in the variable: thrust\n",
      "The cut is: 0.8\n",
      "After this cut the len is: 105308\n",
      "Cut in the variable: tau_0_InvM\n",
      "The cut is: 1.7\n",
      "After this cut the len is: 95085\n",
      "95085\n"
     ]
    }
   ],
   "source": [
    "new_subset=subset.copy()\n",
    "print(len(new_subset))\n",
    "for element in dic_cuts:\n",
    "    print(\"Cut in the variable:\", element)\n",
    "    cut=dic_cuts[element]\n",
    "    print(\"The cut is:\", cut)\n",
    "    new_subset=new_subset[new_subset[element] > cut]\n",
    "    print(\"After this cut the len is:\",len(new_subset))\n",
    "print(len(new_subset))"
   ]
  },
  {
   "cell_type": "code",
   "execution_count": 42,
   "metadata": {},
   "outputs": [
    {
     "data": {
      "image/png": "[encoded data removed]",
      "text/plain": [
       "<Figure size 432x288 with 1 Axes>"
      ]
     },
     "metadata": {
      "needs_background": "light"
     },
     "output_type": "display_data"
    }
   ],
   "source": [
    "h = plt.hist(new_subset[\"tau_0_InvM\"][new_subset[\"tau_0_InvM\"] < 1.85], bins=100)"
   ]
  },
  {
   "cell_type": "markdown",
   "metadata": {},
   "source": [
    "# PyROOTFIT\n",
    "<font color=\"red\">Another option zfit</font>\n",
    "<br>\n",
    "[zfit](https://github.com/zfit/zfit)"
   ]
  },
  {
   "cell_type": "code",
   "execution_count": 43,
   "metadata": {},
   "outputs": [
    {
     "name": "stdout",
     "output_type": "stream",
     "text": [
      "Parameters:\n",
      "mean               ==> 1.76773+/-0.00009\n",
      "sigma              ==> 0.02413+/-0.00007\n",
      "-------\n",
      "\n",
      "\u001b[1mRooFit v3.60 -- Developed by Wouter Verkerke and David Kirkby\u001b[0m \n",
      "                Copyright (C) 2000-2013 NIKHEF, University of California & Stanford University\n",
      "                All rights reserved, please read http://roofit.sourceforge.net/license.txt\n",
      "\n",
      "[#1] INFO:Eval -- RooTreeDataStore::loadValues(data) Ignored 7998 out of range events\n",
      "[#1] INFO:Minization -- RooMinimizer::optimizeConst: activating const optimization\n",
      "[#1] INFO:Fitting -- RooAbsPdf::fitTo(gauss) Calculating sum-of-weights-squared correction matrix for covariance matrix\n",
      "[#1] INFO:Minization -- RooMinimizer::optimizeConst: deactivating const optimization\n"
     ]
    },
    {
     "name": "stderr",
     "output_type": "stream",
     "text": [
      "Info in <TCanvas::Print>: png file fit_sig.png has been created\n"
     ]
    }
   ],
   "source": [
    "from pyroofit.models import Gauss\n",
    "x = ROOT.RooRealVar('tau_0_InvM', 'M_{#tau}', 1.7, 1.82, 'GeV/c^{2}')\n",
    "mean_s=(1.77, 1.71, 1.81)\n",
    "sigma_s=(0.01, 0.001, 0.3)\n",
    "pdf_sig = Gauss(x, mean_s, sigma=sigma_s, name=\"gauss\")\n",
    "\n",
    "pdf_sig.fit(new_subset)\n",
    "pdf_sig.plot('fit_sig.png', legend=True)\n",
    "\n",
    "print(\"Parameters:\")\n",
    "pdf_sig.get()\n",
    "print(\"-------\")"
   ]
  },
  {
   "cell_type": "markdown",
   "metadata": {},
   "source": [
    "<img src=\"fit_sig.png\" width=500 height=500 />"
   ]
  },
  {
   "cell_type": "markdown",
   "metadata": {},
   "source": [
    "## <font color=\"Violet\"> Try to make a better fit</font>"
   ]
  },
  {
   "cell_type": "code",
   "execution_count": 44,
   "metadata": {},
   "outputs": [],
   "source": [
    "#from IPython.display import Image \n",
    "#Image(filename='fit_sig.png')"
   ]
  },
  {
   "cell_type": "markdown",
   "metadata": {},
   "source": [
    "## <font color=\"Blue\"> Your best friend Google :)!</font> \n",
    "\n",
    "[Collection of further tutorials](https://github.com/ipython/ipython/wiki/A-gallery-of-interesting-IPython-Notebooks#introductory-tutorials)"
   ]
  }
 ],
 "metadata": {
  "kernelspec": {
   "display_name": "Python 3 (Belle2)",
   "language": "python",
   "name": "python3"
  },
  "language_info": {
   "codemirror_mode": {
    "name": "ipython",
    "version": 3
   },
   "file_extension": ".py",
   "mimetype": "text/x-python",
   "name": "python",
   "nbconvert_exporter": "python",
   "pygments_lexer": "ipython3",
   "version": "3.6.9"
  }
 },
 "nbformat": 4,
 "nbformat_minor": 4
}
